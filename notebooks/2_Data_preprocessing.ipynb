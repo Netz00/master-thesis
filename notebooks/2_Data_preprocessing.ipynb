{
  "cells": [
    {
      "cell_type": "markdown",
      "metadata": {
        "id": "KaEWs7Qb6GFV"
      },
      "source": [
        "# Init"
      ]
    },
    {
      "cell_type": "code",
      "execution_count": null,
      "metadata": {
        "colab": {
          "base_uri": "https://localhost:8080/"
        },
        "id": "lelOBpgWbcW0",
        "outputId": "cd43fd79-44d6-408f-a5e6-74414b2bd8b1"
      },
      "outputs": [
        {
          "name": "stdout",
          "output_type": "stream",
          "text": [
            "Mounted at /content/gdrive\n"
          ]
        }
      ],
      "source": [
        "from google.colab import drive\n",
        "drive.mount('/content/gdrive')"
      ]
    },
    {
      "cell_type": "code",
      "execution_count": null,
      "metadata": {
        "colab": {
          "base_uri": "https://localhost:8080/"
        },
        "id": "SG5Na_vWeyEo",
        "outputId": "9d91f4de-bf0f-45e7-ec1b-378049e6657c"
      },
      "outputs": [
        {
          "name": "stdout",
          "output_type": "stream",
          "text": [
            "env: DRIVE_DATA_DIR=./gdrive/MyDrive/master-thesis\n",
            "env: COLAB_DATA_DIR=data\n"
          ]
        }
      ],
      "source": [
        "%env DRIVE_DATA_DIR=./gdrive/MyDrive/master-thesis\n",
        "%env COLAB_DATA_DIR=data"
      ]
    },
    {
      "cell_type": "code",
      "execution_count": null,
      "metadata": {
        "id": "fEWxauCPGt9n"
      },
      "outputs": [],
      "source": [
        "!sudo apt-get install imagemagick"
      ]
    },
    {
      "cell_type": "code",
      "execution_count": null,
      "metadata": {
        "id": "0KUMa8iMskAs"
      },
      "outputs": [],
      "source": [
        "%env Kather_16_NONORM=Kather_texture_2016_image_tiles_5000\n",
        "%env Kather_16_NORM=./gdrive/MyDrive/master-thesis"
      ]
    },
    {
      "cell_type": "markdown",
      "metadata": {
        "id": "V9ln43dgmUb9"
      },
      "source": [
        "# Convert images to PNG and store them to drive"
      ]
    },
    {
      "cell_type": "markdown",
      "metadata": {
        "id": "-YZ6nSLAe6uJ"
      },
      "source": [
        "## Kather16 NONORM -> PNG"
      ]
    },
    {
      "cell_type": "code",
      "execution_count": null,
      "metadata": {
        "id": "SDdKFxpDLGxJ"
      },
      "outputs": [],
      "source": [
        "%%shell\n",
        "\n",
        "mkdir $COLAB_DATA_DIR\n",
        "cp $DRIVE_DATA_DIR/$Kather_16_NONORM.zip $COLAB_DATA_DIR\n",
        "unzip $COLAB_DATA_DIR/$Kather_16_NONORM.zip -d . && rm $COLAB_DATA_DIR/$Kather_16_NONORM.zip"
      ]
    },
    {
      "cell_type": "code",
      "execution_count": null,
      "metadata": {
        "id": "xv_hWgu0F8vT"
      },
      "outputs": [],
      "source": [
        "!mogrify -format png $COLAB_DATA_DIR/$Kather_16_NONORM/**/*.tif\n",
        "# mogrify -format png -define png:compression-level=0 -define png:compression-filter=5 -define png:compression-strategy=0 data/Kather_texture_2016_image_tiles_5000/**/*.tif\n",
        "# https://stackoverflow.com/a/27784462/12108610"
      ]
    },
    {
      "cell_type": "code",
      "execution_count": null,
      "metadata": {
        "id": "W7_qavZ6IRkk"
      },
      "outputs": [],
      "source": [
        "! rm -rf $COLAB_DATA_DIR/$Kather_16_NONORM/**/*.tif"
      ]
    },
    {
      "cell_type": "code",
      "execution_count": null,
      "metadata": {
        "id": "-eyZY8P8vo5W"
      },
      "outputs": [],
      "source": [
        "! zip -r $Kather_16_NONORM.png.zip $COLAB_DATA_DIR/$Kather_16_NONORM"
      ]
    },
    {
      "cell_type": "code",
      "execution_count": null,
      "metadata": {
        "id": "cZIQLNbSwLA8"
      },
      "outputs": [],
      "source": [
        "! mv $Kather_16_NONORM.png.zip $DRIVE_DATA_DIR/."
      ]
    },
    {
      "cell_type": "markdown",
      "metadata": {
        "id": "bqaxhl6Ae-L3"
      },
      "source": [
        "## Kather16 NORM -> PNG"
      ]
    },
    {
      "cell_type": "markdown",
      "metadata": {},
      "source": [
        "Kather16 imagese were normalized with Matlab and SN toolbox (explained in the master thesis)."
      ]
    },
    {
      "cell_type": "code",
      "execution_count": null,
      "metadata": {
        "id": "OrWgcLO9LZsg"
      },
      "outputs": [],
      "source": [
        "%%shell\n",
        "rm -rf data\n",
        "mkdir data\n",
        "cp $DRIVE_DATA_DIR/Kather_texture_2016_image_tiles_5000_NORM.zip data\n",
        "unzip data/Kather_texture_2016_image_tiles_5000_NORM.zip -d data/Kather_texture_2016_image_tiles_5000_NORM && rm data/Kather_texture_2016_image_tiles_5000_NORM.zip"
      ]
    },
    {
      "cell_type": "code",
      "execution_count": null,
      "metadata": {
        "colab": {
          "base_uri": "https://localhost:8080/"
        },
        "id": "nxggGG4ezgxR",
        "outputId": "178d77ce-6fd6-4e5e-9a33-b112abab5d3c"
      },
      "outputs": [
        {
          "data": {
            "text/plain": []
          },
          "execution_count": 6,
          "metadata": {},
          "output_type": "execute_result"
        }
      ],
      "source": [
        "%%shell\n",
        "mogrify -format png data/Kather_texture_2016_image_tiles_5000_NORM/**/*.tif\n",
        "rm -rf data/Kather_texture_2016_image_tiles_5000_NORM/**/*.tif"
      ]
    },
    {
      "cell_type": "code",
      "execution_count": null,
      "metadata": {
        "id": "Q5Jqa1IzfWZj"
      },
      "outputs": [],
      "source": [
        "! zip -r Kather_texture_2016_image_tiles_5000_NORM.png.zip data/Kather_texture_2016_image_tiles_5000_NORM"
      ]
    },
    {
      "cell_type": "code",
      "execution_count": null,
      "metadata": {
        "id": "ZUCo0pvCfaQL"
      },
      "outputs": [],
      "source": [
        "! mv Kather_texture_2016_image_tiles_5000_NORM.png.zip $DRIVE_DATA_DIR/."
      ]
    },
    {
      "cell_type": "markdown",
      "metadata": {
        "id": "hZEax5oEiCAc"
      },
      "source": [
        "## Kather19 -> PNG"
      ]
    },
    {
      "cell_type": "markdown",
      "metadata": {
        "id": "FcRRxB_oaU8n"
      },
      "source": [
        "cca 80 min\n",
        "1. Download Kather19\n",
        "2. Convert to png\n",
        "3. Save to drive"
      ]
    },
    {
      "cell_type": "code",
      "execution_count": null,
      "metadata": {
        "id": "RR8pcIbMbbMm"
      },
      "outputs": [],
      "source": [
        "%%shell\n",
        "\n",
        "mkdir data\n",
        "wget -O NCT-CRC-HE-100K.zip https://zenodo.org/record/1214456/files/NCT-CRC-HE-100K.zip?download=1"
      ]
    },
    {
      "cell_type": "code",
      "execution_count": null,
      "metadata": {
        "id": "azG7njrNRi_y"
      },
      "outputs": [],
      "source": [
        "! unzip NCT-CRC-HE-100K.zip -d data && rm NCT-CRC-HE-100K.zip"
      ]
    },
    {
      "cell_type": "markdown",
      "metadata": {
        "id": "qQh40xBYa0hi"
      },
      "source": [
        "Convert each class to PNG separately, either script breaks"
      ]
    },
    {
      "cell_type": "code",
      "execution_count": null,
      "metadata": {
        "id": "3fZlXtDrRrJC"
      },
      "outputs": [],
      "source": [
        "! mogrify -format png data/NCT-CRC-HE-100K/ADI/*.tif"
      ]
    },
    {
      "cell_type": "code",
      "execution_count": null,
      "metadata": {
        "id": "Ivhvv386SBCl"
      },
      "outputs": [],
      "source": [
        "! rm -rf data/NCT-CRC-HE-100K/ADI/*.tif"
      ]
    },
    {
      "cell_type": "code",
      "execution_count": null,
      "metadata": {
        "id": "tLU2u1KVRrFV"
      },
      "outputs": [],
      "source": [
        "! mogrify -format png data/NCT-CRC-HE-100K/BACK/*.tif"
      ]
    },
    {
      "cell_type": "code",
      "execution_count": null,
      "metadata": {
        "id": "KAGnww2BSA2e"
      },
      "outputs": [],
      "source": [
        "! rm -rf data/NCT-CRC-HE-100K/BACK/*.tif"
      ]
    },
    {
      "cell_type": "code",
      "execution_count": null,
      "metadata": {
        "id": "zhLUqisWRq7P"
      },
      "outputs": [],
      "source": [
        "! mogrify -format png data/NCT-CRC-HE-100K/DEB/*.tif"
      ]
    },
    {
      "cell_type": "code",
      "execution_count": null,
      "metadata": {
        "id": "obN3XXvzSAy6"
      },
      "outputs": [],
      "source": [
        "! rm -rf data/NCT-CRC-HE-100K/DEB/*.tif"
      ]
    },
    {
      "cell_type": "code",
      "execution_count": null,
      "metadata": {
        "id": "F9U2-Y4ARyra"
      },
      "outputs": [],
      "source": [
        "! mogrify -format png data/NCT-CRC-HE-100K/LYM/*.tif"
      ]
    },
    {
      "cell_type": "code",
      "execution_count": null,
      "metadata": {
        "id": "lOify0mZSAvt"
      },
      "outputs": [],
      "source": [
        "! rm -rf data/NCT-CRC-HE-100K/LYM/*.tif"
      ]
    },
    {
      "cell_type": "code",
      "execution_count": null,
      "metadata": {
        "id": "0YySD9qYRyo5"
      },
      "outputs": [],
      "source": [
        "! mogrify -format png data/NCT-CRC-HE-100K/MUC/*.tif"
      ]
    },
    {
      "cell_type": "code",
      "execution_count": null,
      "metadata": {
        "id": "ixXfybpZSAs4"
      },
      "outputs": [],
      "source": [
        "! rm -rf data/NCT-CRC-HE-100K/MUC/*.tif"
      ]
    },
    {
      "cell_type": "code",
      "execution_count": null,
      "metadata": {
        "id": "QC5qiv6pRymA"
      },
      "outputs": [],
      "source": [
        "! mogrify -format png data/NCT-CRC-HE-100K/MUS/*.tif"
      ]
    },
    {
      "cell_type": "code",
      "execution_count": null,
      "metadata": {
        "id": "WLVql_W1SAnI"
      },
      "outputs": [],
      "source": [
        "! rm -rf data/NCT-CRC-HE-100K/MUS/*.tif"
      ]
    },
    {
      "cell_type": "code",
      "execution_count": null,
      "metadata": {
        "id": "Bk6DZDrDRyjD"
      },
      "outputs": [],
      "source": [
        "! mogrify -format png data/NCT-CRC-HE-100K/NORM/*.tif"
      ]
    },
    {
      "cell_type": "code",
      "execution_count": null,
      "metadata": {
        "id": "Qs6ghoo3SJ1L"
      },
      "outputs": [],
      "source": [
        "! rm -rf data/NCT-CRC-HE-100K/NORM/*.tif"
      ]
    },
    {
      "cell_type": "code",
      "execution_count": null,
      "metadata": {
        "id": "7qbWA1W8RycQ"
      },
      "outputs": [],
      "source": [
        "! mogrify -format png data/NCT-CRC-HE-100K/STR/*.tif"
      ]
    },
    {
      "cell_type": "code",
      "execution_count": null,
      "metadata": {
        "id": "pLz2rSPNSJv_"
      },
      "outputs": [],
      "source": [
        "! rm -rf data/NCT-CRC-HE-100K/STR/*.tif"
      ]
    },
    {
      "cell_type": "code",
      "execution_count": null,
      "metadata": {
        "id": "_ztPS7iAkw9e"
      },
      "outputs": [],
      "source": [
        "! mogrify -format png data/NCT-CRC-HE-100K/TUM/*.tif"
      ]
    },
    {
      "cell_type": "code",
      "execution_count": null,
      "metadata": {
        "id": "sNbz3V43utBo"
      },
      "outputs": [],
      "source": [
        "! rm -rf data/NCT-CRC-HE-100K/TUM/*.tif"
      ]
    },
    {
      "cell_type": "code",
      "execution_count": null,
      "metadata": {
        "colab": {
          "base_uri": "https://localhost:8080/"
        },
        "id": "c2QEO39kvkcp",
        "outputId": "8b7d8511-ddf4-4dbd-d30c-9b91389799e4"
      },
      "outputs": [
        {
          "name": "stdout",
          "output_type": "stream",
          "text": [
            "data/NCT-CRC-HE-100K:\t100000\n",
            "data/NCT-CRC-HE-100K/BACK:\t10566\n",
            "data/NCT-CRC-HE-100K/DEB:\t11512\n",
            "data/NCT-CRC-HE-100K/NORM:\t8763\n",
            "data/NCT-CRC-HE-100K/STR:\t10446\n",
            "data/NCT-CRC-HE-100K/ADI:\t10407\n",
            "data/NCT-CRC-HE-100K/MUS:\t13536\n",
            "data/NCT-CRC-HE-100K/MUC:\t8896\n",
            "data/NCT-CRC-HE-100K/TUM:\t14317\n",
            "data/NCT-CRC-HE-100K/LYM:\t11557\n"
          ]
        },
        {
          "data": {
            "text/plain": []
          },
          "execution_count": 38,
          "metadata": {},
          "output_type": "execute_result"
        }
      ],
      "source": [
        "%%shell\n",
        "\n",
        "find data/NCT-CRC-HE-100K -maxdepth 1 -type d | while read -r dir\n",
        "do printf \"%s:\\t\" \"$dir\"; find \"$dir\" -type f | wc -l; done"
      ]
    },
    {
      "cell_type": "code",
      "execution_count": null,
      "metadata": {
        "id": "epepB9l-v4gs"
      },
      "outputs": [],
      "source": [
        "! zip -r NCT-CRC-HE-100K.png.zip data/NCT-CRC-HE-100K # 12 min"
      ]
    },
    {
      "cell_type": "code",
      "execution_count": null,
      "metadata": {
        "id": "R-7EGf5mwPRd"
      },
      "outputs": [],
      "source": [
        "! cp NCT-CRC-HE-100K.png.zip $DRIVE_DATA_DIR/."
      ]
    },
    {
      "cell_type": "markdown",
      "metadata": {
        "id": "4jILHPdzbVai"
      },
      "source": [
        "## Kather19 7K test -> PNG"
      ]
    },
    {
      "cell_type": "code",
      "execution_count": null,
      "metadata": {
        "id": "ZU8CBe1wbccX"
      },
      "outputs": [],
      "source": [
        "%%shell\n",
        "\n",
        "mkdir data\n",
        "cp $DRIVE_DATA_DIR/CRC-VAL-HE-7K.zip data\n",
        "unzip data/CRC-VAL-HE-7K.zip -d ./data && rm data/CRC-VAL-HE-7K.zip"
      ]
    },
    {
      "cell_type": "code",
      "execution_count": null,
      "metadata": {
        "id": "AB3W0nNKbgmF"
      },
      "outputs": [],
      "source": [
        "! mogrify -format png data/CRC-VAL-HE-7K/**/*.tif"
      ]
    },
    {
      "cell_type": "code",
      "execution_count": null,
      "metadata": {
        "id": "fjpzkGAAbhrC"
      },
      "outputs": [],
      "source": [
        "! rm -rf data/CRC-VAL-HE-7K/**/*.tif"
      ]
    },
    {
      "cell_type": "code",
      "execution_count": null,
      "metadata": {
        "colab": {
          "base_uri": "https://localhost:8080/"
        },
        "id": "2ANB_nDkb2ew",
        "outputId": "f3228e1e-2214-44fa-9820-b1f43eecabba"
      },
      "outputs": [
        {
          "name": "stdout",
          "output_type": "stream",
          "text": [
            "data/CRC-VAL-HE-7K:\t7180\n",
            "data/CRC-VAL-HE-7K/DEB:\t339\n",
            "data/CRC-VAL-HE-7K/ADI:\t1338\n",
            "data/CRC-VAL-HE-7K/TUM:\t1233\n",
            "data/CRC-VAL-HE-7K/MUS:\t592\n",
            "data/CRC-VAL-HE-7K/MUC:\t1035\n",
            "data/CRC-VAL-HE-7K/NORM:\t741\n",
            "data/CRC-VAL-HE-7K/STR:\t421\n",
            "data/CRC-VAL-HE-7K/BACK:\t847\n",
            "data/CRC-VAL-HE-7K/LYM:\t634\n"
          ]
        },
        {
          "data": {
            "text/plain": []
          },
          "execution_count": 14,
          "metadata": {},
          "output_type": "execute_result"
        }
      ],
      "source": [
        "%%shell\n",
        "\n",
        "find data/CRC-VAL-HE-7K -maxdepth 1 -type d | while read -r dir\n",
        "do printf \"%s:\\t\" \"$dir\"; find \"$dir\" -type f | wc -l; done"
      ]
    },
    {
      "cell_type": "code",
      "execution_count": null,
      "metadata": {
        "id": "IFpPFIErbiyN"
      },
      "outputs": [],
      "source": [
        "! zip -r CRC-VAL-HE-7K.png.zip data/CRC-VAL-HE-7K"
      ]
    },
    {
      "cell_type": "code",
      "execution_count": null,
      "metadata": {
        "id": "-xtFib4vbjvg"
      },
      "outputs": [],
      "source": [
        "! mv CRC-VAL-HE-7K.png.zip $DRIVE_DATA_DIR/."
      ]
    },
    {
      "cell_type": "markdown",
      "metadata": {
        "id": "HEJNzHaxA4M8"
      },
      "source": [
        "# Datasets merge"
      ]
    },
    {
      "cell_type": "markdown",
      "metadata": {
        "id": "8-bAFFA95pzw"
      },
      "source": [
        "## Code"
      ]
    },
    {
      "cell_type": "code",
      "execution_count": null,
      "metadata": {
        "id": "297p87XxP0lE"
      },
      "outputs": [],
      "source": [
        "import os\n",
        "from os.path import join, normpath, sep\n",
        "from PIL import Image\n",
        "from pathlib import Path\n",
        "import pandas as pd\n",
        "import seaborn as sns\n",
        "import matplotlib.pyplot as plt"
      ]
    },
    {
      "cell_type": "code",
      "execution_count": null,
      "metadata": {
        "id": "d-p2OvWn52HM"
      },
      "outputs": [],
      "source": [
        "def resize(input_image_path, output_image_path, new_size = (100, 100)):\n",
        "  im = Image.open(input_image_path)\n",
        "  new_im = im.resize(new_size, resample=Image.BICUBIC )\n",
        "  new_im.save(output_image_path, \"PNG\")"
      ]
    },
    {
      "cell_type": "code",
      "execution_count": null,
      "metadata": {
        "id": "zGkQX1rqIOnz"
      },
      "outputs": [],
      "source": [
        "def getFiles(basedir):\n",
        "  for root, dirs, files in os.walk(basedir, topdown=False):\n",
        "    for name in files:\n",
        "        yield root,name\n",
        "        # break"
      ]
    },
    {
      "cell_type": "code",
      "execution_count": null,
      "metadata": {
        "id": "z-9M1Mn_1_6K"
      },
      "outputs": [],
      "source": [
        "def resizeDataset(src_dir, dest_dir):\n",
        "  os.mkdir(dest_dir)\n",
        "  for root,name in getFiles(src_dir):\n",
        "    Path(join(dest_dir, normpath(root).split(os.path.sep)[-1])).mkdir(parents=True, exist_ok=True)\n",
        "    resize(join(root, name), join(dest_dir, normpath(root).split(os.path.sep)[-1], name))"
      ]
    },
    {
      "cell_type": "code",
      "execution_count": null,
      "metadata": {
        "colab": {
          "base_uri": "https://localhost:8080/"
        },
        "id": "DUuAv4i6lO5q",
        "outputId": "c62d8825-8c53-4b9b-a7f4-766a7baa0a39"
      },
      "outputs": [
        {
          "name": "stdout",
          "output_type": "stream",
          "text": [
            "env: IMAGE_FORMAT=png\n"
          ]
        }
      ],
      "source": [
        "%env IMAGE_FORMAT=png"
      ]
    },
    {
      "cell_type": "code",
      "execution_count": null,
      "metadata": {
        "colab": {
          "base_uri": "https://localhost:8080/"
        },
        "id": "mc0QIR7P5HUV",
        "outputId": "61dd781c-2bc0-4ece-d5b0-80df6759afea"
      },
      "outputs": [
        {
          "name": "stdout",
          "output_type": "stream",
          "text": [
            "Overwriting loadDataset.sh\n"
          ]
        }
      ],
      "source": [
        "%%writefile loadDataset.sh\n",
        "\n",
        "#!/usr/bin/env bash\n",
        "\n",
        "mkdir -p $COLAB_DATA_DIR\n",
        "cp $DRIVE_DATA_DIR/$1.${IMAGE_FORMAT}.zip $COLAB_DATA_DIR\n",
        "unzip $COLAB_DATA_DIR/$1.${IMAGE_FORMAT}.zip -d . && rm $COLAB_DATA_DIR/$1.${IMAGE_FORMAT}.zip"
      ]
    },
    {
      "cell_type": "code",
      "execution_count": null,
      "metadata": {
        "id": "KJsDxlAlrsPG"
      },
      "outputs": [],
      "source": [
        "! chmod u+x loadDataset.sh"
      ]
    },
    {
      "cell_type": "markdown",
      "metadata": {
        "id": "4PQjfGOPj0LC"
      },
      "source": [
        "## Load and resize Kather16"
      ]
    },
    {
      "cell_type": "code",
      "execution_count": null,
      "metadata": {
        "colab": {
          "base_uri": "https://localhost:8080/"
        },
        "id": "VgVWZtPEhlJ7",
        "outputId": "3c43dd2c-48f9-4a4a-f8f1-eadc802e09d3"
      },
      "outputs": [
        {
          "name": "stdout",
          "output_type": "stream",
          "text": [
            "env: DATASET_K16=Kather_texture_2016_image_tiles_5000_NORM\n"
          ]
        }
      ],
      "source": [
        "%env DATASET_K16=Kather_texture_2016_image_tiles_5000_NORM"
      ]
    },
    {
      "cell_type": "code",
      "execution_count": null,
      "metadata": {
        "id": "gVceQesp5qQs"
      },
      "outputs": [],
      "source": [
        "! ./loadDataset.sh $DATASET_K16"
      ]
    },
    {
      "cell_type": "code",
      "execution_count": null,
      "metadata": {
        "id": "yYVpyFGz5u_N"
      },
      "outputs": [],
      "source": [
        "! rm -rf ${COLAB_DATA_DIR}/${DATASET_K16}_resized"
      ]
    },
    {
      "cell_type": "code",
      "execution_count": null,
      "metadata": {
        "id": "1QaWgU1P5x7X"
      },
      "outputs": [],
      "source": [
        "resizeDataset(join(os.environ[\"COLAB_DATA_DIR\"], os.environ[\"DATASET_K16\"]), join(os.environ[\"COLAB_DATA_DIR\"], os.environ[\"DATASET_K16\"]+\"_resized\"))"
      ]
    },
    {
      "cell_type": "code",
      "execution_count": null,
      "metadata": {
        "colab": {
          "base_uri": "https://localhost:8080/"
        },
        "id": "vIhu9ZzGCmjQ",
        "outputId": "3333f8e3-db88-4613-d2af-a05c663c5268"
      },
      "outputs": [
        {
          "name": "stdout",
          "output_type": "stream",
          "text": [
            "data/Kather_texture_2016_image_tiles_5000_NORM:\t5000\n",
            "data/Kather_texture_2016_image_tiles_5000_NORM/02_STROMA:\t625\n",
            "data/Kather_texture_2016_image_tiles_5000_NORM/07_ADIPOSE:\t625\n",
            "data/Kather_texture_2016_image_tiles_5000_NORM/04_LYMPHO:\t625\n",
            "data/Kather_texture_2016_image_tiles_5000_NORM/05_DEBRIS:\t625\n",
            "data/Kather_texture_2016_image_tiles_5000_NORM/08_EMPTY:\t625\n",
            "data/Kather_texture_2016_image_tiles_5000_NORM/03_COMPLEX:\t625\n",
            "data/Kather_texture_2016_image_tiles_5000_NORM/06_MUCOSA:\t625\n",
            "data/Kather_texture_2016_image_tiles_5000_NORM/01_TUMOR:\t625\n"
          ]
        },
        {
          "data": {
            "text/plain": []
          },
          "execution_count": 15,
          "metadata": {},
          "output_type": "execute_result"
        }
      ],
      "source": [
        "%%shell\n",
        "\n",
        "find $COLAB_DATA_DIR/$DATASET_K16 -maxdepth 1 -type d | while read -r dir\n",
        "do printf \"%s:\\t\" \"$dir\"; find \"$dir\" -type f | wc -l; done"
      ]
    },
    {
      "cell_type": "markdown",
      "metadata": {
        "id": "TXZ0JzmAj2Vm"
      },
      "source": [
        "## Load and resize Kather19"
      ]
    },
    {
      "cell_type": "code",
      "execution_count": null,
      "metadata": {
        "colab": {
          "base_uri": "https://localhost:8080/"
        },
        "id": "5-S4zhKj5ixZ",
        "outputId": "8a28baec-1abd-43e8-af78-71d255c59f14"
      },
      "outputs": [
        {
          "name": "stdout",
          "output_type": "stream",
          "text": [
            "env: DATASET_K19=NCT-CRC-HE-100K\n"
          ]
        }
      ],
      "source": [
        "%env DATASET_K19=NCT-CRC-HE-100K"
      ]
    },
    {
      "cell_type": "code",
      "execution_count": null,
      "metadata": {
        "colab": {
          "base_uri": "https://localhost:8080/"
        },
        "id": "v9ZBzyUthj_u",
        "outputId": "bf482077-5f86-4daa-f7cf-01929b093963"
      },
      "outputs": [
        {
          "name": "stdout",
          "output_type": "stream",
          "text": [
            "cp: cannot stat './gdrive/MyDrive/master-thesis/NCT-CRC-HE-100K.png.zip': No such file or directory\n",
            "unzip:  cannot find or open data/NCT-CRC-HE-100K.png.zip, data/NCT-CRC-HE-100K.png.zip.zip or data/NCT-CRC-HE-100K.png.zip.ZIP.\n"
          ]
        }
      ],
      "source": [
        "! ./loadDataset.sh $DATASET_K19"
      ]
    },
    {
      "cell_type": "code",
      "execution_count": null,
      "metadata": {
        "id": "GE3svQmf5vpg"
      },
      "outputs": [],
      "source": [
        "! rm -rf ${COLAB_DATA_DIR}/${DATASET_K19}_resized"
      ]
    },
    {
      "cell_type": "code",
      "execution_count": null,
      "metadata": {
        "id": "x6qq_TiN5yS1"
      },
      "outputs": [],
      "source": [
        "resizeDataset(join(os.environ[\"COLAB_DATA_DIR\"], os.environ[\"DATASET_K19\"]), join(os.environ[\"COLAB_DATA_DIR\"], os.environ[\"DATASET_K19\"]+\"_resized\"))"
      ]
    },
    {
      "cell_type": "code",
      "execution_count": null,
      "metadata": {
        "colab": {
          "base_uri": "https://localhost:8080/"
        },
        "id": "EG9qtmEACrvm",
        "outputId": "1326e722-0983-4a24-e6f5-b165ad567736"
      },
      "outputs": [
        {
          "name": "stdout",
          "output_type": "stream",
          "text": [
            "data/NCT-CRC-HE-100K:\t100000\n",
            "data/NCT-CRC-HE-100K/BACK:\t10566\n",
            "data/NCT-CRC-HE-100K/DEB:\t11512\n",
            "data/NCT-CRC-HE-100K/NORM:\t8763\n",
            "data/NCT-CRC-HE-100K/STR:\t10446\n",
            "data/NCT-CRC-HE-100K/ADI:\t10407\n",
            "data/NCT-CRC-HE-100K/MUS:\t13536\n",
            "data/NCT-CRC-HE-100K/MUC:\t8896\n",
            "data/NCT-CRC-HE-100K/TUM:\t14317\n",
            "data/NCT-CRC-HE-100K/LYM:\t11557\n"
          ]
        },
        {
          "data": {
            "text/plain": []
          },
          "execution_count": 40,
          "metadata": {},
          "output_type": "execute_result"
        }
      ],
      "source": [
        "%%shell\n",
        "\n",
        "find $COLAB_DATA_DIR/$DATASET_K19 -maxdepth 1 -type d | while read -r dir\n",
        "do printf \"%s:\\t\" \"$dir\"; find \"$dir\" -type f | wc -l; done"
      ]
    },
    {
      "cell_type": "code",
      "execution_count": null,
      "metadata": {
        "id": "gr40FRB0pvZq"
      },
      "outputs": [],
      "source": [
        "# create DataFrame\n",
        "df_k19 = pd.DataFrame({'Kather19': [14317, 10446, 11557, 11512, 8896, 10407, 10566, 13536, 8763]},\n",
        "                  index=['TUMOR', 'STROMA', 'LYMPHO', 'DEBRIS', 'MUCOSA', 'ADIPOSE', 'BACK', 'MUS', 'NORM'])"
      ]
    },
    {
      "cell_type": "code",
      "execution_count": null,
      "metadata": {
        "colab": {
          "base_uri": "https://localhost:8080/",
          "height": 420
        },
        "id": "su1gtQiYpvZr",
        "outputId": "8684751e-15d0-4f34-fdc4-20892c9d4f8f"
      },
      "outputs": [
        {
          "data": {
            "image/png": "[encoded data removed]",
            "text/plain": [
              "<Figure size 1500x600 with 1 Axes>"
            ]
          },
          "metadata": {},
          "output_type": "display_data"
        }
      ],
      "source": [
        "sns.set_theme(style=\"white\")\n",
        "\n",
        "f, ax = plt.subplots(figsize=(15, 6))\n",
        "\n",
        "# Plot the data\n",
        "sns.barplot(data=df_k19.reset_index(), y=df_k19.index, x='Kather19', color='#003f5c', ax=ax)\n",
        "\n",
        "# Add a legend and informative axis label\n",
        "ax.set(xlabel=\"Number of samples\", ylabel=\"Class\", title=\"NCT-CRC-HE-100K dataset distribution per class\")\n",
        "sns.despine(left=True, bottom=True)\n",
        "\n",
        "plt.show()\n"
      ]
    },
    {
      "cell_type": "code",
      "execution_count": null,
      "metadata": {
        "colab": {
          "base_uri": "https://localhost:8080/",
          "height": 426
        },
        "id": "2MvkMBjJoHdU",
        "outputId": "2eb7946c-5506-40f9-8ae5-178b606d527a"
      },
      "outputs": [
        {
          "data": {
            "image/png": "[encoded data removed]",
            "text/plain": [
              "<Figure size 1500x600 with 1 Axes>"
            ]
          },
          "metadata": {},
          "output_type": "display_data"
        }
      ],
      "source": [
        "sns.set_theme(style=\"white\")\n",
        "\n",
        "f, ax = plt.subplots(figsize=(15, 6))\n",
        "\n",
        "# Plot the data\n",
        "sns.barplot(data=df_k19.reset_index(), y='Kather19', x=df_k19.index, color='#003f5c', ax=ax)\n",
        "\n",
        "# Add a legend and informative axis label\n",
        "ax.set(xlabel=\"Tissue class\", ylabel=\"Number of patches\", title=\"NCT-CRC-HE-100K dataset distribution per class\")\n",
        "sns.despine(left=True, bottom=True)\n",
        "\n",
        "plt.show()"
      ]
    },
    {
      "cell_type": "markdown",
      "metadata": {
        "id": "205WfROQ31-Z"
      },
      "source": [
        "## Load and resize Kather19 7K test"
      ]
    },
    {
      "cell_type": "code",
      "execution_count": null,
      "metadata": {
        "colab": {
          "base_uri": "https://localhost:8080/"
        },
        "id": "4w4MsfEv5lze",
        "outputId": "363902ff-1714-4922-f739-64bf0e73672b"
      },
      "outputs": [
        {
          "name": "stdout",
          "output_type": "stream",
          "text": [
            "env: DATASET_K19_7k=CRC-VAL-HE-7K\n"
          ]
        }
      ],
      "source": [
        "%env DATASET_K19_7k=CRC-VAL-HE-7K"
      ]
    },
    {
      "cell_type": "code",
      "execution_count": null,
      "metadata": {
        "id": "WRTSeNFMwoHp"
      },
      "outputs": [],
      "source": [
        "! ./loadDataset.sh $DATASET_K19_7k"
      ]
    },
    {
      "cell_type": "code",
      "execution_count": null,
      "metadata": {
        "id": "HUAW3uVs5wSF"
      },
      "outputs": [],
      "source": [
        "! rm -rf ${COLAB_DATA_DIR}/${DATASET_K19_7k}_resized"
      ]
    },
    {
      "cell_type": "code",
      "execution_count": null,
      "metadata": {
        "id": "paGkENV55y0c"
      },
      "outputs": [],
      "source": [
        "resizeDataset(join(os.environ[\"COLAB_DATA_DIR\"], os.environ[\"DATASET_K19_7k\"]), join(os.environ[\"COLAB_DATA_DIR\"], os.environ[\"DATASET_K19_7k\"]+\"_resized\"))"
      ]
    },
    {
      "cell_type": "code",
      "execution_count": null,
      "metadata": {
        "colab": {
          "base_uri": "https://localhost:8080/"
        },
        "id": "GS0ePOIbCt9Y",
        "outputId": "e9cd389e-3352-4ab2-e04a-e69745ec9e2c"
      },
      "outputs": [
        {
          "name": "stdout",
          "output_type": "stream",
          "text": [
            "data/CRC-VAL-HE-7K:\t7180\n",
            "data/CRC-VAL-HE-7K/BACK:\t847\n",
            "data/CRC-VAL-HE-7K/DEB:\t339\n",
            "data/CRC-VAL-HE-7K/NORM:\t741\n",
            "data/CRC-VAL-HE-7K/STR:\t421\n",
            "data/CRC-VAL-HE-7K/ADI:\t1338\n",
            "data/CRC-VAL-HE-7K/MUS:\t592\n",
            "data/CRC-VAL-HE-7K/MUC:\t1035\n",
            "data/CRC-VAL-HE-7K/TUM:\t1233\n",
            "data/CRC-VAL-HE-7K/LYM:\t634\n"
          ]
        },
        {
          "data": {
            "text/plain": []
          },
          "execution_count": 55,
          "metadata": {},
          "output_type": "execute_result"
        }
      ],
      "source": [
        "%%shell\n",
        "\n",
        "find $COLAB_DATA_DIR/$DATASET_K19_7k -maxdepth 1 -type d | while read -r dir\n",
        "do printf \"%s:\\t\" \"$dir\"; find \"$dir\" -type f | wc -l; done"
      ]
    },
    {
      "cell_type": "code",
      "execution_count": null,
      "metadata": {
        "id": "Oe2WsrbvpSYy"
      },
      "outputs": [],
      "source": [
        "# create DataFrame\n",
        "df_k19_test = pd.DataFrame({'Kather19-7k': [1233, 421, 634, 339, 1035, 1338, 847, 592, 741]},\n",
        "                  index=['TUMOR', 'STROMA', 'LYMPHO', 'DEBRIS', 'MUCOSA', 'ADIPOSE', 'BACK', 'MUS', 'NORM'])"
      ]
    },
    {
      "cell_type": "code",
      "execution_count": null,
      "metadata": {
        "colab": {
          "base_uri": "https://localhost:8080/",
          "height": 415
        },
        "id": "ticEbWSupSY0",
        "outputId": "82a0fb8c-06fb-4630-edda-f06ee83e90a1"
      },
      "outputs": [
        {
          "data": {
            "image/png": "[encoded data removed]",
            "text/plain": [
              "<Figure size 1500x600 with 1 Axes>"
            ]
          },
          "metadata": {},
          "output_type": "display_data"
        }
      ],
      "source": [
        "sns.set_theme(style=\"white\")\n",
        "\n",
        "f, ax = plt.subplots(figsize=(15, 6))\n",
        "\n",
        "# Plot the data\n",
        "sns.barplot(data=df_k19_test.reset_index(), y=df_k19_test.index, x='Kather19-7k', color='#ffa600', ax=ax)\n",
        "\n",
        "# Add a legend and informative axis label\n",
        "ax.set(xlabel=\"Number of samples\", ylabel=\"Class\", title=\"CRC-VAL-HE-7K dataset distribution per class\")\n",
        "sns.despine(left=True, bottom=True)\n",
        "\n",
        "plt.show()"
      ]
    },
    {
      "cell_type": "code",
      "execution_count": null,
      "metadata": {
        "colab": {
          "base_uri": "https://localhost:8080/",
          "height": 429
        },
        "id": "pqJJEvPjo3F9",
        "outputId": "eb082a36-3878-4879-ccff-e6cafad685f7"
      },
      "outputs": [
        {
          "data": {
            "image/png": "[encoded data removed]",
            "text/plain": [
              "<Figure size 1500x600 with 1 Axes>"
            ]
          },
          "metadata": {},
          "output_type": "display_data"
        }
      ],
      "source": [
        "sns.set_theme(style=\"white\")\n",
        "\n",
        "f, ax = plt.subplots(figsize=(15, 6))\n",
        "\n",
        "# Plot the data\n",
        "sns.barplot(data=df_k19_test.reset_index(), y='Kather19-7k', x=df_k19_test.index, color='#ffa600', ax=ax)\n",
        "\n",
        "# Add a legend and informative axis label\n",
        "ax.set(xlabel=\"Tissue class\", ylabel=\"Number of patches\", title=\"CRC-VAL-HE-7K dataset distribution per class\")\n",
        "sns.despine(left=True, bottom=True)\n",
        "\n",
        "plt.show()"
      ]
    },
    {
      "cell_type": "markdown",
      "metadata": {
        "id": "Aqk4gHvDu6Da"
      },
      "source": [
        "## Moving images"
      ]
    },
    {
      "cell_type": "markdown",
      "metadata": {
        "id": "K-4vzgYMhlme"
      },
      "source": [
        "### Explanation"
      ]
    },
    {
      "cell_type": "markdown",
      "metadata": {
        "id": "r1o4YVWO6SQy"
      },
      "source": [
        "| No | Class_k16 | Images_k16 | Class_k19 | Images_k19 | Class_merged | Images_merged |\n",
        "|--|-----------|------------|-----------|------------|-----------|------------|\n",
        "| 1 | Tumor | 625 | CRC epithelium | 14317 | TUMOR | x |\n",
        "| 2 | Stroma | 625 | Cancer-associated stroma | 10446 | STROMA | x |\n",
        "| 3 | Lympho | 625 | Lymphocytes | 11557 | LYMPHO | x |\n",
        "| 4 | Debris | 625 | Debris | 11512 | DEBRIS | x |\n",
        "| 5 | Mucosa | 625 | Mucus | 8896 | MUCOSA | x |\n",
        "| 6 | Adipose | 625 | Adipose tissue | 10407 | ADIPOSE | x |\n",
        "| 7 | - | - | Background | 10566 | BACK | x |\n",
        "| ~~8~~ | ~~Complex~~ | 625 | - | - | COMPLEX | x |\n",
        "| 9 | - | - | Smooth muscle | 13536 | MUS | x |\n",
        "| 10 | - | - | Normal colon mucosa | 8763 | NORM | x |\n",
        "| ~~11~~ | ~~Empty~~ | 625 | - | - | - | - |"
      ]
    },
    {
      "cell_type": "code",
      "execution_count": null,
      "metadata": {
        "id": "VyIUynGofW-2"
      },
      "outputs": [],
      "source": [
        "# create DataFrame\n",
        "df_all = pd.DataFrame({'Kather16': [625, 625, 625, 625, 625, 625, 0, 0, 0],\n",
        "                   'Kather19': [14317, 10446, 11557, 11512, 8896, 10407, 10566, 13536, 8763],\n",
        "                   'Kather19-7k': [1233, 421, 634, 339, 1035, 1338, 847, 592, 741]},\n",
        "                  index=['TUMOR', 'STROMA', 'LYMPHO', 'DEBRIS', 'MUCOSA', 'ADIPOSE', 'BACK', 'MUS', 'NORM'])\n",
        "\n",
        "df_all = df_all.cumsum(axis=1)"
      ]
    },
    {
      "cell_type": "code",
      "execution_count": null,
      "metadata": {
        "colab": {
          "base_uri": "https://localhost:8080/",
          "height": 392
        },
        "id": "FekFzg7ygxwM",
        "outputId": "df98ff89-0a0e-44ff-d5db-c46394cbca16"
      },
      "outputs": [
        {
          "data": {
            "image/png": "[encoded data removed]",
            "text/plain": [
              "<Figure size 1500x600 with 1 Axes>"
            ]
          },
          "metadata": {},
          "output_type": "display_data"
        }
      ],
      "source": [
        "sns.set_theme(style=\"white\")\n",
        "\n",
        "f, ax = plt.subplots(figsize=(15, 6))\n",
        "\n",
        "# Plot the data\n",
        "sns.barplot(data=df_all.reset_index(), y=df_all.index, x='Kather19-7k', color='#ffa600', label='CRC-VAL-HE-7K', ax=ax)\n",
        "sns.barplot(data=df_all.reset_index(), y=df_all.index, x='Kather19', color='#003f5c', label='NCT-CRC-HE-100K', ax=ax)\n",
        "sns.barplot(data=df_all.reset_index(), y=df_all.index, x='Kather16', color='#bc5090', label='Colorectal Histology', ax=ax)\n",
        "\n",
        "# Add a legend and informative axis label\n",
        "ax.legend(ncol=3, loc=\"lower right\", frameon=True)\n",
        "ax.set(xlabel=\"Number of samples\", ylabel=\"Class\", title=\"Datasets distribution of samples per class comparison\")\n",
        "sns.despine(left=True, bottom=True)\n",
        "plt.legend(bbox_to_anchor=(0.9, 0.2), loc=2, borderaxespad=0.)\n",
        "plt.grid()\n",
        "plt.show()"
      ]
    },
    {
      "cell_type": "code",
      "execution_count": null,
      "metadata": {
        "colab": {
          "base_uri": "https://localhost:8080/",
          "height": 593
        },
        "id": "WVKHVVQRpaKk",
        "outputId": "fab0ddcc-eb87-4581-e4de-60e7f4a1b7e1"
      },
      "outputs": [
        {
          "data": {
            "image/png": "[encoded data removed]",
            "text/plain": [
              "<Figure size 1500x600 with 1 Axes>"
            ]
          },
          "metadata": {},
          "output_type": "display_data"
        }
      ],
      "source": [
        "sns.set_theme(style=\"white\")\n",
        "\n",
        "f, ax = plt.subplots(figsize=(15, 6))\n",
        "\n",
        "# Plot the data\n",
        "sns.barplot(data=df_all.reset_index(), y='Kather19-7k', x=df_all.index, color='#ffa600', label='CRC-VAL-HE-7K', ax=ax)\n",
        "sns.barplot(data=df_all.reset_index(), y='Kather19', x=df_all.index, color='#003f5c', label='NCT-CRC-HE-100K', ax=ax)\n",
        "sns.barplot(data=df_all.reset_index(), y='Kather16', x=df_all.index, color='#bc5090', label='Colorectal Histology', ax=ax)\n",
        "\n",
        "# Add a legend and informative axis label\n",
        "ax.legend(ncol=3, loc=\"upper right\", frameon=True)\n",
        "ax.set(xlabel=\"Tissue class\", ylabel=\"Number of patches\", title=\"Datasets distribution of samples per class comparison\")\n",
        "sns.despine(left=True, bottom=True)\n",
        "\n",
        "plt.show()"
      ]
    },
    {
      "cell_type": "markdown",
      "metadata": {
        "id": "YkOQxby6hqce"
      },
      "source": [
        "### Code"
      ]
    },
    {
      "cell_type": "code",
      "execution_count": null,
      "metadata": {
        "id": "HBvmpIXlv9yA"
      },
      "outputs": [],
      "source": [
        "! rm -rf $COLAB_DATA_DIR/merged_datasets"
      ]
    },
    {
      "cell_type": "code",
      "execution_count": null,
      "metadata": {
        "id": "NIk475N66pKi"
      },
      "outputs": [],
      "source": [
        "! mkdir -p $COLAB_DATA_DIR/merged_datasets/{TUMOR,STROMA,LYMPHO,DEBRIS,MUCOSA,ADIPOSE,BACK,MUS,NORM}"
      ]
    },
    {
      "cell_type": "code",
      "execution_count": null,
      "metadata": {
        "colab": {
          "base_uri": "https://localhost:8080/"
        },
        "id": "gev9uXXUAQ1a",
        "outputId": "a0b680b4-ac39-4f5e-97c5-e5cd0fb135cb"
      },
      "outputs": [
        {
          "data": {
            "text/plain": []
          },
          "execution_count": 64,
          "metadata": {},
          "output_type": "execute_result"
        }
      ],
      "source": [
        "%%shell\n",
        "\n",
        "cp -r $COLAB_DATA_DIR/${DATASET_K16}_resized/01_TUMOR/. $COLAB_DATA_DIR/merged_datasets/TUMOR;\n",
        "cp -r $COLAB_DATA_DIR/${DATASET_K16}_resized/02_STROMA/. $COLAB_DATA_DIR/merged_datasets/STROMA;\n",
        "cp -r $COLAB_DATA_DIR/${DATASET_K16}_resized/04_LYMPHO/. $COLAB_DATA_DIR/merged_datasets/LYMPHO;\n",
        "cp -r $COLAB_DATA_DIR/${DATASET_K16}_resized/05_DEBRIS/. $COLAB_DATA_DIR/merged_datasets/DEBRIS;\n",
        "cp -r $COLAB_DATA_DIR/${DATASET_K16}_resized/06_MUCOSA/. $COLAB_DATA_DIR/merged_datasets/MUCOSA;\n",
        "cp -r $COLAB_DATA_DIR/${DATASET_K16}_resized/07_ADIPOSE/. $COLAB_DATA_DIR/merged_datasets/ADIPOSE;"
      ]
    },
    {
      "cell_type": "code",
      "execution_count": null,
      "metadata": {
        "colab": {
          "base_uri": "https://localhost:8080/"
        },
        "id": "woAHPao6vxN9",
        "outputId": "f9d8c554-82f8-40ea-bf3e-20e02d3e023b"
      },
      "outputs": [
        {
          "data": {
            "text/plain": []
          },
          "execution_count": 65,
          "metadata": {},
          "output_type": "execute_result"
        }
      ],
      "source": [
        "%%shell\n",
        "\n",
        "cp -r $COLAB_DATA_DIR/${DATASET_K19}_resized/TUM/. $COLAB_DATA_DIR/merged_datasets/TUMOR;\n",
        "cp -r $COLAB_DATA_DIR/${DATASET_K19}_resized/STR/. $COLAB_DATA_DIR/merged_datasets/STROMA;\n",
        "cp -r $COLAB_DATA_DIR/${DATASET_K19}_resized/LYM/. $COLAB_DATA_DIR/merged_datasets/LYMPHO;\n",
        "cp -r $COLAB_DATA_DIR/${DATASET_K19}_resized/DEB/. $COLAB_DATA_DIR/merged_datasets/DEBRIS;\n",
        "cp -r $COLAB_DATA_DIR/${DATASET_K19}_resized/MUC/. $COLAB_DATA_DIR/merged_datasets/MUCOSA;\n",
        "cp -r $COLAB_DATA_DIR/${DATASET_K19}_resized/ADI/. $COLAB_DATA_DIR/merged_datasets/ADIPOSE;\n",
        "cp -r $COLAB_DATA_DIR/${DATASET_K19}_resized/BACK/. $COLAB_DATA_DIR/merged_datasets/BACK;\n",
        "cp -r $COLAB_DATA_DIR/${DATASET_K19}_resized/MUS/. $COLAB_DATA_DIR/merged_datasets/MUS;\n",
        "cp -r $COLAB_DATA_DIR/${DATASET_K19}_resized/NORM/. $COLAB_DATA_DIR/merged_datasets/NORM;"
      ]
    },
    {
      "cell_type": "code",
      "execution_count": null,
      "metadata": {
        "colab": {
          "base_uri": "https://localhost:8080/"
        },
        "id": "sZ2byYmMAuiZ",
        "outputId": "0a3ab63a-89ab-461d-802a-6f44cd424e02"
      },
      "outputs": [
        {
          "data": {
            "text/plain": []
          },
          "execution_count": 66,
          "metadata": {},
          "output_type": "execute_result"
        }
      ],
      "source": [
        "%%shell\n",
        "\n",
        "cp -r $COLAB_DATA_DIR/${DATASET_K19_7k}_resized/TUM/. $COLAB_DATA_DIR/merged_datasets/TUMOR;\n",
        "cp -r $COLAB_DATA_DIR/${DATASET_K19_7k}_resized/STR/. $COLAB_DATA_DIR/merged_datasets/STROMA;\n",
        "cp -r $COLAB_DATA_DIR/${DATASET_K19_7k}_resized/LYM/. $COLAB_DATA_DIR/merged_datasets/LYMPHO;\n",
        "cp -r $COLAB_DATA_DIR/${DATASET_K19_7k}_resized/DEB/. $COLAB_DATA_DIR/merged_datasets/DEBRIS;\n",
        "cp -r $COLAB_DATA_DIR/${DATASET_K19_7k}_resized/MUC/. $COLAB_DATA_DIR/merged_datasets/MUCOSA;\n",
        "cp -r $COLAB_DATA_DIR/${DATASET_K19_7k}_resized/ADI/. $COLAB_DATA_DIR/merged_datasets/ADIPOSE;\n",
        "cp -r $COLAB_DATA_DIR/${DATASET_K19_7k}_resized/BACK/. $COLAB_DATA_DIR/merged_datasets/BACK;\n",
        "cp -r $COLAB_DATA_DIR/${DATASET_K19_7k}_resized/MUS/. $COLAB_DATA_DIR/merged_datasets/MUS;\n",
        "cp -r $COLAB_DATA_DIR/${DATASET_K19_7k}_resized/NORM/. $COLAB_DATA_DIR/merged_datasets/NORM"
      ]
    },
    {
      "cell_type": "markdown",
      "metadata": {
        "id": "AN8mGZtyvd3k"
      },
      "source": [
        "## Zip and upload"
      ]
    },
    {
      "cell_type": "code",
      "execution_count": null,
      "metadata": {
        "colab": {
          "base_uri": "https://localhost:8080/"
        },
        "id": "RS1DIh4fA8Tl",
        "outputId": "027af57f-00c3-41c4-967e-3bcb6b567e10"
      },
      "outputs": [
        {
          "name": "stdout",
          "output_type": "stream",
          "text": [
            "data/merged_datasets:\t110930\n",
            "data/merged_datasets/BACK:\t11413\n",
            "data/merged_datasets/NORM:\t9504\n",
            "data/merged_datasets/DEBRIS:\t12476\n",
            "data/merged_datasets/MUCOSA:\t10556\n",
            "data/merged_datasets/MUS:\t14128\n",
            "data/merged_datasets/STROMA:\t11492\n",
            "data/merged_datasets/LYMPHO:\t12816\n",
            "data/merged_datasets/TUMOR:\t16175\n",
            "data/merged_datasets/ADIPOSE:\t12370\n"
          ]
        },
        {
          "data": {
            "text/plain": []
          },
          "execution_count": 67,
          "metadata": {},
          "output_type": "execute_result"
        }
      ],
      "source": [
        "%%shell\n",
        "\n",
        "find $COLAB_DATA_DIR/merged_datasets -maxdepth 1 -type d | while read -r dir\n",
        "do printf \"%s:\\t\" \"$dir\"; find \"$dir\" -type f | wc -l; done"
      ]
    },
    {
      "cell_type": "markdown",
      "metadata": {
        "id": "oDJ2VQLgwLX_"
      },
      "source": [
        "- data/merged_datasets:\t110930\n",
        "- data/merged_datasets/NORM:\t9504\n",
        "- data/merged_datasets/TUMOR:\t16175\n",
        "- data/merged_datasets/STROMA:\t11492\n",
        "- data/merged_datasets/MUCOSA:\t10556\n",
        "- data/merged_datasets/BACK:\t11413\n",
        "- data/merged_datasets/LYMPHO:\t12816\n",
        "- data/merged_datasets/ADIPOSE:\t12370\n",
        "- data/merged_datasets/MUS:\t14128\n",
        "- data/merged_datasets/DEBRIS:\t12476"
      ]
    },
    {
      "cell_type": "code",
      "execution_count": null,
      "metadata": {
        "id": "DEcUx58wA8Tp"
      },
      "outputs": [],
      "source": [
        "! zip -r merged_datasets.png.zip $COLAB_DATA_DIR/merged_datasets"
      ]
    },
    {
      "cell_type": "code",
      "execution_count": null,
      "metadata": {
        "id": "ks8e0YwSA8Tq"
      },
      "outputs": [],
      "source": [
        "! mv merged_datasets.png.zip $DRIVE_DATA_DIR/."
      ]
    }
  ],
  "metadata": {
    "colab": {
      "collapsed_sections": [
        "-YZ6nSLAe6uJ",
        "bqaxhl6Ae-L3",
        "hZEax5oEiCAc",
        "4jILHPdzbVai",
        "8-bAFFA95pzw",
        "4PQjfGOPj0LC",
        "TXZ0JzmAj2Vm",
        "205WfROQ31-Z",
        "Aqk4gHvDu6Da",
        "YkOQxby6hqce",
        "AN8mGZtyvd3k"
      ],
      "provenance": []
    },
    "kernelspec": {
      "display_name": "Python 3",
      "name": "python3"
    },
    "language_info": {
      "name": "python"
    }
  },
  "nbformat": 4,
  "nbformat_minor": 0
}
