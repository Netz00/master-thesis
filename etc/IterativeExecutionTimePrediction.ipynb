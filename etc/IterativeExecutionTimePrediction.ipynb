{
 "cells": [
  {
   "cell_type": "markdown",
   "metadata": {},
   "source": [
    "# Predicting algorithm time"
   ]
  },
  {
   "cell_type": "code",
   "execution_count": null,
   "metadata": {},
   "outputs": [],
   "source": [
    "import statistics\n",
    "\n",
    "epoch_count_1=5\n",
    "epoch_count_2=5\n",
    "\n",
    "phase_1_elapsed_ms = [48,53,35,34,33,33,32,31,33,32] # ms are obtained from training notebook, combination MobileNetV2/merged_datasets_k16-NORM\n",
    "phase_2_elapsed_ms = [60, 69, 61, 63, 63, 64, 60, 60, 64, 63]\n",
    "sec_per_batch_phase_1 = statistics.mean(phase_1_elapsed_ms[:epoch_count_1])/1000\n",
    "sec_per_batch_phase_2 = statistics.mean(phase_2_elapsed_ms[:epoch_count_2])/1000\n",
    "\n",
    "def printTrainTime(total_batch_count):\n",
    "  print(f\"{(((total_batch_count*(((sec_per_batch_phase_1)*epoch_count_1)+((sec_per_batch_phase_2)*epoch_count_2)))/60)/60):.2f} h\")"
   ]
  },
  {
   "cell_type": "markdown",
   "metadata": {},
   "source": [
    "## Exection time for Version 2 - test shared inside single division"
   ]
  },
  {
   "cell_type": "code",
   "execution_count": null,
   "metadata": {},
   "outputs": [
    {
     "name": "stdout",
     "output_type": "stream",
     "text": [
      "Batches in total dataset 2673\n",
      "Factors of 85536, >= 35 = |8|:\t [35, 19, 16, 13, 7, 3, 2, 1]\n",
      "\n",
      "    k = 35 => (35 + 0.2) x  2429 = 85505    Iterations:  1\tExtra runs:  0\t Batches: 2673.0    \n",
      "    k = 19 => (19 + 0.2) x  4455 = 85519    Iterations:  1\tExtra runs: 16\t Batches: 4923.9    \n",
      "    k = 16 => (16 + 0.2) x  5280 = 85536    Iterations:  2\tExtra runs:  3\t Batches: 5847.2    \n",
      "    k = 13 => (13 + 0.2) x  6480 = 85527    Iterations:  2\tExtra runs:  9\t Batches: 7196.5    \n",
      "    k =  7 => ( 7 + 0.2) x 11879 = 85533    Iterations:  5\tExtra runs:  0\t Batches: 13365.0    \n",
      "    k =  3 => ( 3 + 0.2) x 26729 = 85536    Iterations: 11\tExtra runs:  2\t Batches: 31185.0    \n",
      "    k =  2 => ( 2 + 0.2) x 38879 = 85536    Iterations: 17\tExtra runs:  1\t Batches: 46777.5    \n",
      "    k =  1 => ( 1 + 0.2) x 71280 = 85536    Iterations: 35\tExtra runs:  0\t Batches: 93555.0    \n",
      "Total batches to fit:  205523.0\n",
      "29.63 h\n"
     ]
    }
   ],
   "source": [
    "# dataset_sm_count = 5000 - 2 * 625\n",
    "N_min = 1\n",
    "balanced_size = 9504*9\n",
    "\n",
    "balanced_batch_count = balanced_size//32 + (balanced_size % 32 > 0)\n",
    "\n",
    "\n",
    "K = [\n",
    "    k\n",
    "    for len in range(balanced_size)\n",
    "    for k in range(40)\n",
    "    if (k + 0.2) * len == balanced_size\n",
    "]\n",
    "\n",
    "iterations_max = N_min * K[0]\n",
    "\n",
    "\n",
    "print(f\"Batches in total dataset {balanced_size//32}\")\n",
    "print(f\"Factors of {balanced_size}, >= {K[0]} = |{len(K)}|:\\t {K}\\n\")\n",
    "\n",
    "batch_number=0\n",
    "\n",
    "for k in K:\n",
    "\n",
    "    iterations=iterations_max/k # Koliko puta trebamo iterirati kroz citavi dataset?\n",
    "    batches=balanced_batch_count*iterations\n",
    "    batch_number+=batches\n",
    "\n",
    "    print(f\"\"\"\\\n",
    "    k = {k:2.0f} => ({k:2.0f} + 0.2) x {(balanced_size//(k+0.2)):5.0f} = {k*(balanced_size//k)}\\\n",
    "    Iterations: {(iterations_max//k):2.0f}\\tExtra runs: {(iterations_max%k):2.0f}\\t Batches: {batches:5.1f}\\\n",
    "    \"\"\")\n",
    "\n",
    "\n",
    "\n",
    "print(\"Total batches to fit: \",batch_number//1)\n",
    "\n",
    "printTrainTime(batch_number)"
   ]
  },
  {
   "cell_type": "markdown",
   "metadata": {},
   "source": [
    "## Execution time for Version 3 - separate test for each partition"
   ]
  },
  {
   "cell_type": "code",
   "execution_count": null,
   "metadata": {},
   "outputs": [
    {
     "name": "stdout",
     "output_type": "stream",
     "text": [
      "Batches in total dataset 2673\n",
      "k_max = round(85536 / 3750) = 22\n",
      "Factors of 85536, >= 22 = |12|:\t [22, 18, 16, 12, 11, 9, 8, 6, 4, 3, 2, 1] \n",
      "\n",
      "    k = 22 => 22 x  3888 = 85536    Iterations:  1\tExtra runs:  0\t Batches: 2673.0    \n",
      "    k = 18 => 18 x  4752 = 85536    Iterations:  1\tExtra runs:  4\t Batches: 3267.0    \n",
      "    k = 16 => 16 x  5346 = 85536    Iterations:  1\tExtra runs:  6\t Batches: 3675.4    \n",
      "    k = 12 => 12 x  7128 = 85536    Iterations:  1\tExtra runs: 10\t Batches: 4900.5    \n",
      "    k = 11 => 11 x  7776 = 85536    Iterations:  2\tExtra runs:  0\t Batches: 5346.0    \n",
      "    k =  9 =>  9 x  9504 = 85536    Iterations:  2\tExtra runs:  4\t Batches: 6534.0    \n",
      "    k =  8 =>  8 x 10692 = 85536    Iterations:  2\tExtra runs:  6\t Batches: 7350.8    \n",
      "    k =  6 =>  6 x 14256 = 85536    Iterations:  3\tExtra runs:  4\t Batches: 9801.0    \n",
      "    k =  4 =>  4 x 21384 = 85536    Iterations:  5\tExtra runs:  2\t Batches: 14701.5    \n",
      "    k =  3 =>  3 x 28512 = 85536    Iterations:  7\tExtra runs:  1\t Batches: 19602.0    \n",
      "    k =  2 =>  2 x 42768 = 85536    Iterations: 11\tExtra runs:  0\t Batches: 29403.0    \n",
      "    k =  1 =>  1 x 85536 = 85536    Iterations: 22\tExtra runs:  0\t Batches: 58806.0    \n",
      "Total batches to fit:  166060.0\n",
      "23.94 h\n"
     ]
    }
   ],
   "source": [
    "import statistics\n",
    "\n",
    "epoch_count_1=5\n",
    "epoch_count_2=5\n",
    "\n",
    "phase_1_elapsed_ms = [48,53,35,34,33,33,32,31,33,32]\n",
    "phase_2_elapsed_ms = [60, 69, 61, 63, 63, 64, 60, 60, 64, 63]\n",
    "sec_per_batch_phase_1 = statistics.mean(phase_1_elapsed_ms[:epoch_count_1])/1000\n",
    "sec_per_batch_phase_2 = statistics.mean(phase_2_elapsed_ms[:epoch_count_2])/1000\n",
    "\n",
    "get_all_divisors_less_than = (\n",
    "    lambda k_max, n: sorted(set([\n",
    "        i for d in (\n",
    "            [i]\n",
    "            for i in range(1, min(int(k_max**0.5) + 1, n + 1))\n",
    "            if k_max % i == 0\n",
    "            )\n",
    "            for i in d\n",
    "        ]), reverse = True)\n",
    ")\n",
    "\n",
    "dataset_sm_count = 5000 - 2 * 625\n",
    "N_min = 1\n",
    "da_balanced_count = 9504*9\n",
    "\n",
    "da_balanced_batch_count = da_balanced_count//32 + (da_balanced_count % 32 > 0)\n",
    "k_max = da_balanced_count//dataset_sm_count\n",
    "K = get_all_divisors_less_than(da_balanced_count,k_max)\n",
    "iterations_max = N_min*K[0]\n",
    "\n",
    "print(f\"Batches in total dataset {da_balanced_batch_count}\")\n",
    "print(f\"k_max = round({da_balanced_count} / {dataset_sm_count}) = {k_max}\")\n",
    "print(f\"Factors of {da_balanced_count}, >= {k_max} = |{len(K)}|:\\t\", K, \"\\n\")\n",
    "\n",
    "batch_number=0\n",
    "\n",
    "for k in K:\n",
    "    iterations=iterations_max/k # Koliko puta trebamo iterirati kroz citavi dataset?\n",
    "    batches=da_balanced_batch_count*iterations\n",
    "    batch_number+=batches\n",
    "    print(f\"\"\"\\\n",
    "    k = {k:2.0f} => {k:2.0f} x {(da_balanced_count//k):5.0f} = {k*(da_balanced_count//k)}\\\n",
    "    Iterations: {(iterations_max//k):2.0f}\\tExtra runs: {(iterations_max%k):2.0f}\\t Batches: {batches:5.1f}\\\n",
    "    \"\"\")\n",
    "\n",
    "print(\"Total batches to fit: \",batch_number//1)\n",
    "\n",
    "printTrainTime(batch_number)"
   ]
  }
 ],
 "metadata": {
  "language_info": {
   "name": "python"
  }
 },
 "nbformat": 4,
 "nbformat_minor": 2
}
